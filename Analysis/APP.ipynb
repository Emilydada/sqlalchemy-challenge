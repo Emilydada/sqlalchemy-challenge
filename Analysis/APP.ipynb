{
 "cells": [
  {
   "cell_type": "code",
   "execution_count": 36,
   "id": "d4c683da",
   "metadata": {},
   "outputs": [],
   "source": [
    "import numpy as np\n",
    "import re\n",
    "import datetime as dt\n",
    "import sqlalchemy\n",
    "\n",
    "from sqlalchemy.ext.automap import automap_base\n",
    "from sqlalchemy.orm import Session\n",
    "from sqlalchemy import create_engine\n",
    "from sqlalchemy import create_engine, inspect, func"
   ]
  },
  {
   "cell_type": "code",
   "execution_count": 37,
   "id": "df388d10",
   "metadata": {},
   "outputs": [],
   "source": [
    "from flask import Flask, jsonify"
   ]
  },
  {
   "cell_type": "code",
   "execution_count": 38,
   "id": "6e389c6f",
   "metadata": {},
   "outputs": [],
   "source": [
    "# create engine to hawaii.sqlite\n",
    "engine = create_engine(\"sqlite:///hawaii.sqlite\")"
   ]
  },
  {
   "cell_type": "code",
   "execution_count": 39,
   "id": "36b3d3e8",
   "metadata": {},
   "outputs": [],
   "source": [
    "# reflect an existing database into a new model\n",
    "Base = automap_base()\n",
    "# reflect the tables\n",
    "Base.prepare(engine, reflect=True)\n"
   ]
  },
  {
   "cell_type": "code",
   "execution_count": 40,
   "id": "64ca472a",
   "metadata": {},
   "outputs": [],
   "source": [
    "# Save reference to the tables\n",
    "Measurement = Base.classes.measurement\n",
    "Station = Base.classes.station"
   ]
  },
  {
   "cell_type": "code",
   "execution_count": 41,
   "id": "1dbb537c",
   "metadata": {},
   "outputs": [],
   "source": [
    "app = Flask(__name__)\n",
    "def welcome():\n",
    "    \"\"\"List all available api routes.\"\"\"\n",
    "    return (\n",
    "        f\"Available Routes:<br/>\"\n",
    "        f\"/api/v1.0/precipitation<br/>\"\n",
    "        f\"/api/v1.0/stations<br/>\"\n",
    "        f\"/api/v1.0/tobs<br/>\"\n",
    "        f\"/api/v1.0/start (enter as YYYY-MM-DD)<br/>\"\n",
    "        f\"/api/v1.0/start/end (enter as YYYY-MM-DD/YYYY-MM-DD)\"\n",
    "\n",
    "    )\n",
    "\n",
    "\n",
    "@app.route(\"/api/v1.0/precipitation\") #Convert query results to a dictionary using `date` as the key and `tobs` as the value\n",
    "def precipitation():\n",
    "    # Create session (link) from Python to the DB\n",
    "    session = Session(engine)\n",
    "\n",
    "    # Query Measurement\n",
    "    results = (session.query(Measurement.date, Measurement.tobs)\n",
    "                      .order_by(Measurement.date))\n",
    "    \n",
    "    # Create a dictionary\n",
    "    precipitation_date_tobs = []\n",
    "    for each_row in results:\n",
    "        dt_dict = {}\n",
    "        dt_dict[\"date\"] = each_row.date\n",
    "        dt_dict[\"tobs\"] = each_row.tobs\n",
    "        precipitation_date_tobs.append(dt_dict)\n",
    "\n",
    "    return jsonify(precipitation_date_tobs)\n"
   ]
  },
  {
   "cell_type": "code",
   "execution_count": 42,
   "id": "1c45e76b",
   "metadata": {},
   "outputs": [],
   "source": [
    "@app.route(\"/api/v1.0/stations\") #Return a JSON list of stations from the dataset\n",
    "def stations():\n",
    "    # Create session (link) from Python to the DB\n",
    "    session = Session(engine)\n",
    "\n",
    "    # Query Stations\n",
    "    results = session.query(Station.name).all()\n",
    "\n",
    "    # Convert list of tuples into normal list\n",
    "    station_details = list(np.ravel(results))\n",
    "\n",
    "    return jsonify(station_details)\n"
   ]
  },
  {
   "cell_type": "code",
   "execution_count": 43,
   "id": "0b621f65",
   "metadata": {},
   "outputs": [],
   "source": [
    "@app.route(\"/api/v1.0/tobs\") # Query the dates and temperature observations of the most active station for the last year of data\n",
    "def tobs():\n",
    "    # Create our session (link) from Python to the DB\n",
    "    session = Session(engine)\n",
    "\n",
    "    # Query Measurements for latest date and calculate query_start_date\n",
    "    latest_date = (session.query(Measurement.date)\n",
    "                          .order_by(Measurement.date\n",
    "                          .desc())\n",
    "                          .first())\n",
    "    \n",
    "    latest_date_str = str(latest_date)\n",
    "    latest_date_str = re.sub(\"'|,\", \"\",latest_date_str)\n",
    "    latest_date_obj = dt.datetime.strptime(latest_date_str, '(%Y-%m-%d)')\n",
    "    query_start_date = dt.date(latest_date_obj.year, latest_date_obj.month, latest_date_obj.day) - dt.timedelta(days=366)\n",
    "     \n",
    "    # Query station names and their observation counts sorted descending and select most active station\n",
    "    list = (session.query(Measurement.station, func.count(Measurement.station))\n",
    "                             .group_by(Measurement.station)\n",
    "                             .order_by(func.count(Measurement.station).desc())\n",
    "                             .all())\n",
    "    \n",
    "    data_tobs = list[0][0]\n",
    "    print(data_tobs)\n"
   ]
  },
  {
   "cell_type": "code",
   "execution_count": null,
   "id": "43e2c25d",
   "metadata": {},
   "outputs": [],
   "source": []
  }
 ],
 "metadata": {
  "kernelspec": {
   "display_name": "Python 3",
   "language": "python",
   "name": "python3"
  },
  "language_info": {
   "codemirror_mode": {
    "name": "ipython",
    "version": 3
   },
   "file_extension": ".py",
   "mimetype": "text/x-python",
   "name": "python",
   "nbconvert_exporter": "python",
   "pygments_lexer": "ipython3",
   "version": "3.8.8"
  }
 },
 "nbformat": 4,
 "nbformat_minor": 5
}
